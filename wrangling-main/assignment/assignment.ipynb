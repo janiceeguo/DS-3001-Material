{
 "cells": [
  {
   "cell_type": "markdown",
   "id": "13ad028b-72b7-43ed-aa78-96fd4e518040",
   "metadata": {
    "id": "13ad028b-72b7-43ed-aa78-96fd4e518040"
   },
   "source": [
    "# Assignment: Data Wrangling"
   ]
  },
  {
   "cell_type": "markdown",
   "id": "5735a4d4-8be8-433a-a351-70eb8002e632",
   "metadata": {
    "id": "5735a4d4-8be8-433a-a351-70eb8002e632"
   },
   "source": [
    "**Q1.** Open the \"tidy_data.pdf\" document in the repo, which is a paper called Tidy Data by Hadley Wickham.\n",
    "\n",
    "  1. Read the abstract. What is this paper about?\n",
    "\n",
    "  > This paper talks about the data cleaning process, specifically about how to make datasets more tidy. Wickham states that tidy datasets have a particular structure: each variable is a column, each observation is a row, and each type of observational unit is a table. He explores the advantages of this format, and why to put it into practice.\n",
    "\n",
    "  2. Read the introduction. What is the \"tidy data standard\" intended to accomplish?\n",
    "\n",
    "  > The tidy data standard is supposed to provide a baseline standardized way to clean datasets. It makes cleaning, and future data analysis, easier because it clarifies and simplifies the steps and tools needed for these processes.\n",
    "\n",
    "  3. Read the intro to section 2. What does this sentence mean: \"Like families, tidy datasets are all alike but every messy dataset is messy in its own way.\" What does this sentence mean: \"For a given dataset, it’s usually easy to figure out what are observations and what are variables, but it is surprisingly difficult to precisely define variables and observations in general.\"\n",
    "\n",
    "  > The first sentence means that tidy datasets all share common factors of how they are formated, how variables are defined, etc. while messy datasets have no common reason as to why there are messy or what makes them messy, as they each have their own unique problems. The second sentence means that it's easy to locate observations and variables because of the rectangular structure of a table, so rows are observations and columns are variables. However, it is harder to assign meaning to the values that are in the dataset, perhaps from confusion about what each observation represents, perhaps from confusion on the units of measurement for each variable, etc.\n",
    "\n",
    "  4. Read Section 2.2. How does Wickham define values, variables, and observations?\n",
    "\n",
    "  > Values are are what make up a dataset, wherin they are usually numeric or strings. Variables are collections of values that measure the same underyling attribute accross all indidivuals of the population. Observations are collectons of values that measure different aspects of the same individual in a population.\n",
    "\n",
    "  5. How is \"Tidy Data\" defined in section 2.3?\n",
    "\n",
    "  > Tidy data is a standard way of structuring a dataset where each variable is a column, each observation is a row, and each type of observational unit forms a table.\n",
    "\n",
    "  6. Read the intro to Section 3 and Section 3.1. What are the 5 most common problems with messy datasets? Why are the data in Table 4 messy? What is \"melting\" a dataset?\n",
    "\n",
    "  > The five most common problems with messy datasets are: column headers being values and not variable names, multiple variables being stored in one column, variables being stored in both columns and rows, multiple types of observational units being stored in one table, and a single observational unit being stored in multiple tables. Table 4 contains messy data because the column names are really values of the variable income, so these values should be a column in the table rather than a column header. Melting a dataset is the process of turning columns into rows such that column headers are no longer values of a variable.\n",
    "\n",
    "  7. Why, specifically, is table 11 messy but table 12 tidy and \"molten\"?\n",
    "\n",
    "  > Table 11 is messy because days are column headers, when in reality days are values of a date variable. Table 12(a) is molten because the columns of days are now turned into rows of dates, but it is not quite tidy yet because the `element` column contains names of variables instead of measured values. Table 12(b) makes these variables into seperate columns, which then allows the dataset to be tidy so that now all column names are variables and all table entries are attributes.\n",
    "\n",
    "  8. Read Section 6. What is the \"chicken-and-egg\" problem with focusing on tidy data? What does Wickham hope happens in the future with further work on the subject of data wrangling?\n",
    "\n",
    "  > The \"chicken-and-egg\" problem with regards to tidy data highlights how making data tidy is just a small part of the entire data cleaning process, and that if the data science community is to get better at using tidy data then data cleaning tools will also need to be improved, which will then make tidying data easier, which will then make it easier to create new tidy tools, and so on as a cycle. Wickham hopes that there will be more of an effort for the data science community to create data cleaning tools or data cleaning ideologies for better long-term solutions for data storage and analysis."
   ]
  },
  {
   "cell_type": "markdown",
   "id": "da879ea7-8aac-48a3-b6c2-daea56d2e072",
   "metadata": {
    "id": "da879ea7-8aac-48a3-b6c2-daea56d2e072"
   },
   "source": [
    "**Q2.** This question provides some practice cleaning variables which have common problems.\n",
    "1. Numeric variable: For `./data/airbnb_hw.csv`, clean the `Price` variable as well as you can, and explain the choices you make. How many missing values do you end up with? (Hint: What happens to the formatting when a price goes over 999 dollars, say from 675 to 1,112?)\n",
    "2. Categorical variable: For the `./data/sharks.csv` data covered in the lecture, clean the \"Type\" variable as well as you can, and explain the choices you make.\n",
    "3. Dummy variable: For the pretrial data covered in the lecture, clean the `WhetherDefendantWasReleasedPretrial` variable as well as you can, and, in particular, replace missing values with `np.nan`.\n",
    "4. Missing values, not at random: For the pretrial data covered in the lecture, clean the `ImposedSentenceAllChargeInContactEvent` variable as well as you can, and explain the choices you make. (Hint: Look at the `SentenceTypeAllChargesAtConvictionInContactEvent` variable.)"
   ]
  },
  {
   "cell_type": "code",
   "execution_count": 2,
   "id": "fa23368d",
   "metadata": {},
   "outputs": [],
   "source": [
    "import pandas as pd\n",
    "import numpy as np"
   ]
  },
  {
   "cell_type": "code",
   "execution_count": 36,
   "id": "1b783ee2",
   "metadata": {},
   "outputs": [
    {
     "name": "stdout",
     "output_type": "stream",
     "text": [
      "0    145\n",
      "1     37\n",
      "2     28\n",
      "3    199\n",
      "4    549\n",
      "Name: Price, dtype: int64\n",
      "\n",
      "Total missing: 0\n"
     ]
    }
   ],
   "source": [
    "# 1\n",
    "df = pd.read_csv(\"./data/airbnb_hw.csv\", low_memory=False)\n",
    "p = df[\"Price\"]\n",
    "# print(p.tolist())\n",
    "\n",
    "# found out that values are string and numbers greater than 999 have a comma, will need to remove comma and change to numeric\n",
    "p = p.str.replace(\",\", \"\")\n",
    "p = pd.to_numeric(p, errors=\"coerce\")\n",
    "# replace unclean column with clean values in original dataframe\n",
    "df[\"Price\"] = p\n",
    "print(df[\"Price\"].head())\n",
    "print(f\"\\nTotal missing: {df['Price'].isna().sum()}\")"
   ]
  },
  {
   "cell_type": "code",
   "execution_count": 31,
   "metadata": {},
   "outputs": [
    {
     "name": "stdout",
     "output_type": "stream",
     "text": [
      "Unprovoked    4716\n",
      "Provoked       593\n",
      "Watercraft     583\n",
      "Name: Type, dtype: int64\n",
      "\n",
      "Total missing: 570\n"
     ]
    }
   ],
   "source": [
    "# 2\n",
    "df = pd.read_csv(\"./data/sharks.csv\", low_memory=False)\n",
    "t = df[\"Type\"]\n",
    "# print(t.value_counts())\n",
    "\n",
    "# combining all water related disasters into one value\n",
    "t = t.replace([\"Sea Disaster\", \"Boat\", \"Boating\", \"Boatomg\"], \"Watercraft\")\n",
    "# uncertain attacks cannot be used in analysis, so replace with nan\n",
    "t = t.replace([\"Invalid\", \"Questionable\", \"Unconfirmed\", \"Under investigation\", \"Unverified\"], np.nan)\n",
    "# replace unclean column with clean values in original dataframe\n",
    "df[\"Type\"] = t\n",
    "print(df[\"Type\"].value_counts())\n",
    "print(f\"\\nTotal missing: {df['Type'].isna().sum()}\")"
   ]
  },
  {
   "cell_type": "code",
   "execution_count": 22,
   "id": "4281669c",
   "metadata": {},
   "outputs": [],
   "source": [
    "url = 'http://www.vcsc.virginia.gov/pretrialdataproject/October%202017%20Cohort_Virginia%20Pretrial%20Data%20Project_Deidentified%20FINAL%20Update_10272021.csv'\n",
    "pdf = pd.read_csv(url,low_memory=False)"
   ]
  },
  {
   "cell_type": "code",
   "execution_count": 34,
   "id": "a550b089",
   "metadata": {},
   "outputs": [
    {
     "name": "stdout",
     "output_type": "stream",
     "text": [
      "1.0    19154\n",
      "0.0     3801\n",
      "Name: WhetherDefendantWasReleasedPretrial, dtype: int64\n",
      "\n",
      "Total missing: 31\n"
     ]
    }
   ],
   "source": [
    "r = pdf[\"WhetherDefendantWasReleasedPretrial\"]\n",
    "# print(r.value_counts())\n",
    "\n",
    "# codebook says code 9 means unclear, so replace with nan\n",
    "r = r.replace(9, np.nan)\n",
    "# replace unclean column with clean values in original dataframe\n",
    "pdf[\"WhetherDefendantWasReleasedPretrial\"] = r\n",
    "print(pdf[\"WhetherDefendantWasReleasedPretrial\"].value_counts())\n",
    "print(f\"\\nTotal missing: {pdf['WhetherDefendantWasReleasedPretrial'].isna().sum()}\")"
   ]
  },
  {
   "cell_type": "code",
   "execution_count": 37,
   "id": "e1c002d0",
   "metadata": {},
   "outputs": [
    {
     "name": "stdout",
     "output_type": "stream",
     "text": [
      "ImposedSentenceAllChargeInContactEvent            False  True \n",
      "SentenceTypeAllChargesAtConvictionInContactEvent              \n",
      "0                                                  8720      0\n",
      "1                                                  4299      0\n",
      "2                                                   914      0\n",
      "4                                                  8779      0\n",
      "9                                                     0    274\n",
      "\n",
      "Total missing: 274\n"
     ]
    }
   ],
   "source": [
    "# 4\n",
    "s = pdf[\"ImposedSentenceAllChargeInContactEvent\"]\n",
    "t = pdf[\"SentenceTypeAllChargesAtConvictionInContactEvent\"]\n",
    "# print(l.tolist())\n",
    "\n",
    "# found that values are string, need to change to numeric\n",
    "s = pd.to_numeric(s, errors=\"coerce\")\n",
    "# print(pd.crosstab(t, s.isna()))\n",
    "# print(f\"Total missing: {s.isna().sum()}\")\n",
    "\n",
    "# found that missing values are not insignificant, but not all of these missing values are actually nan\n",
    "# missing values can come from code 4 or code 9 in the codebook, so replace code 4 with 0 for no sentence and code 9 with nan for unknown sentences\n",
    "s = s.mask(t == 4, 0)\n",
    "s = s.mask(t == 9, np.nan)\n",
    "\n",
    "# replace unclean column with clean values in original dataframe\n",
    "pdf[\"ImposedSentenceAllChargeInContactEvent\"] = s\n",
    "print(pd.crosstab(t, pdf[\"ImposedSentenceAllChargeInContactEvent\"].isna()))\n",
    "print(f\"\\nTotal missing: {pdf['ImposedSentenceAllChargeInContactEvent'].isna().sum()}\")\n",
    "# have successfully assigned meaningful values to a lot of cells that were previously nan"
   ]
  },
  {
   "cell_type": "markdown",
   "id": "649494cd-cfd6-4f80-992a-9994fc19e1d5",
   "metadata": {
    "id": "649494cd-cfd6-4f80-992a-9994fc19e1d5"
   },
   "source": [
    "**Q3.** Many important datasets contain a race variable, typically limited to a handful of values often including Black, White, Asian, Latino, and Indigenous. This question looks at data gathering efforts on this variable by the U.S. Federal government.\n",
    "\n",
    "1. How did the most recent US Census gather data on race?\n",
    "\n",
    "> For the 2020 Census, they had a question about Hispanic origin and another question on race. Both questions had mark all that apply checkboxes, but only the race question had more write-in boxes to specify ethnicity for more detail (such as if the person was White, they could then specify what kind of White, such as German).\n",
    "\n",
    "2. Why do we gather these data? What role do these kinds of data play in politics and society? Why does data quality matter?\n",
    "\n",
    "> These data values can provide many insights into things such as education, employment, housing, etc. It allows the government to better decide which communities need more help and influences the kinds of regulations and policies that are created.\n",
    "\n",
    "3. Please provide a constructive criticism of how the Census was conducted: What was done well? What do you think was missing? How should future large scale surveys be adjusted to best reflect the diversity of the population? Could some of the Census' good practices be adopted more widely to gather richer and more useful data?\n",
    "\n",
    "> I think they did a good job at at allowing write-in boxes for detail, because it allows people to write down a more specific culture instead of being grouped into one broad category, such as Asian or White. One thing that they could improve is the amount of space for write-in boxes. In the American Indian category for race, they listed \"Native Village of Barrow Inupiat Traditional Government\" as an example, which is clearly too long for the box. It would be best to either give longer lines or to provide examples of how to shorthand longer names. I think the mark all that apply system and the current variety of races and the option to write in a more specific race is well designed to reflect population diversity in a large scale survey. Both of these things should be adopted more widely so other surveys can gather more meaningful and useful data.\n",
    "\n",
    "4. How did the Census gather data on sex and gender? Please provide a similar constructive criticism of their practices.\n",
    "\n",
    "> The 2020 Census had only one question on sex, in which you could only check one of two options: Male or Female. There were no questions on gender. This doesn't scale well to large populations, and especially not to one as diverse as the US. There should always be an \"other\" write-in option and a \"prefer not to say/don't know\" option for questions relating to sex and gender, as these are not purely binary categories and it can be rather intrusive to force a person to choose to reveal information about themselves relating to sex and gender. There also could have been a question about gender, that asks what gender the person currently identifies as, or even a question on sexual orientation. \n",
    "\n",
    "5. When it comes to cleaning data, what concerns do you have about protected characteristics like sex, gender, sexual identity, or race? What challenges can you imagine arising when there are missing values? What good or bad practices might people adopt, and why?\n",
    "\n",
    "> In data cleaning, the biggest concern for sex/gender/sexual identity would be missing values and the biggest concern for race would be combining detailed information into broad categories. Missing values for sex/gender/sexual identity makes it hard to confidently represent a population based on the available data, but also provides an opportunity for people who are cleaning the data to wrongly fill in a default value. This is an extremely bad practice to adopt because it ignores the possibility that the person with the missing value could have a complicated sexual identity, and can falsely boost the percentage of people who chose \"common\" categories of straight/male/female. For race, the person who is cleaning the data may feel the need to combine different ethnicities into one broad category, as is often done with Asians where Chinese/Japanese/Korean/Indian/Filipino/Vietnamese is commonly lumped together into \"Asian\". This ignores the large differences in culture that each ehtnicity has, and makes the data much less useful, as it is harder to draw conclusions that apply to all members of a broad category.\n",
    "\n",
    "6. Suppose someone invented an algorithm to impute values for protected characteristics like race, gender, sex, or sexuality. What kinds of concerns would you have?\n",
    "\n",
    "> Imputed values generated through an algorithm will spit out the most common values for a person given other statistics such as income, place of residence, education, etc. This kind of algorithm will never consider the possibility that the person with missing values is different from the majority of their peers, and it also discredits the choice that the person has made in opting out of answering. Creating this fake data is worse than having no data at all, because it leads people to draw incorrect conclusions from what reality may actually be. It also creates a cycle that reconfirms algorithms that impute values to only generate the most commonly seen values, and destroys the diversity of data gathered from a population. "
   ]
  }
 ],
 "metadata": {
  "colab": {
   "provenance": []
  },
  "kernelspec": {
   "display_name": "Python 3 (ipykernel)",
   "language": "python",
   "name": "python3"
  },
  "language_info": {
   "codemirror_mode": {
    "name": "ipython",
    "version": 3
   },
   "file_extension": ".py",
   "mimetype": "text/x-python",
   "name": "python",
   "nbconvert_exporter": "python",
   "pygments_lexer": "ipython3",
   "version": "3.8.8"
  }
 },
 "nbformat": 4,
 "nbformat_minor": 5
}
